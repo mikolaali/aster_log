{
 "cells": [
  {
   "cell_type": "code",
   "execution_count": 130,
   "metadata": {},
   "outputs": [],
   "source": [
    "import os,re"
   ]
  },
  {
   "cell_type": "code",
   "execution_count": 286,
   "metadata": {},
   "outputs": [],
   "source": [
    "start_call_re = re.compile(r'^\\[(?P<date>.*?)\\] VERBOSE\\[.*\\]\\[(?P<call_id>C-\\w{8})\\] netsock2.c: .+$')"
   ]
  },
  {
   "cell_type": "code",
   "execution_count": 253,
   "metadata": {},
   "outputs": [
    {
     "data": {
      "text/plain": [
       "re.Pattern"
      ]
     },
     "execution_count": 253,
     "metadata": {},
     "output_type": "execute_result"
    }
   ],
   "source": [
    "type(start_call_re)"
   ]
  },
  {
   "cell_type": "code",
   "execution_count": 273,
   "metadata": {},
   "outputs": [],
   "source": [
    "s = '[2020-03-13 07:20:54] VERBOSE[1795][C-000005c0] netsock2.c:   == Using SIP RTP CoS mark 5'\n",
    "p = start_call_re.search(s)"
   ]
  },
  {
   "cell_type": "code",
   "execution_count": 298,
   "metadata": {},
   "outputs": [],
   "source": [
    "# with open('full','r') as f:\n",
    "#     for line in f:\n",
    "#         res = start_call_re.match(line)\n",
    "#         if res:\n",
    "#             print(res.group('date'), res.group('call_id'),res.string)"
   ]
  },
  {
   "cell_type": "code",
   "execution_count": 295,
   "metadata": {},
   "outputs": [],
   "source": [
    "c = [1,2,3]"
   ]
  },
  {
   "cell_type": "code",
   "execution_count": 296,
   "metadata": {},
   "outputs": [
    {
     "data": {
      "text/plain": [
       "3"
      ]
     },
     "execution_count": 296,
     "metadata": {},
     "output_type": "execute_result"
    }
   ],
   "source": [
    "c.pop()"
   ]
  },
  {
   "cell_type": "code",
   "execution_count": 297,
   "metadata": {},
   "outputs": [
    {
     "data": {
      "text/plain": [
       "[1, 2]"
      ]
     },
     "execution_count": 297,
     "metadata": {},
     "output_type": "execute_result"
    }
   ],
   "source": [
    "c"
   ]
  },
  {
   "cell_type": "code",
   "execution_count": 299,
   "metadata": {},
   "outputs": [],
   "source": [
    "import subprocess"
   ]
  },
  {
   "cell_type": "code",
   "execution_count": 304,
   "metadata": {},
   "outputs": [],
   "source": [
    "s = subprocess.check_output(['ls', '-l'])"
   ]
  },
  {
   "cell_type": "code",
   "execution_count": 305,
   "metadata": {},
   "outputs": [
    {
     "name": "stdout",
     "output_type": "stream",
     "text": [
      "b'\\xd0\\xb8\\xd1\\x82\\xd0\\xbe\\xd0\\xb3\\xd0\\xbe 50352\\n-rw-r--r-- 1 root root      308 \\xd0\\xbc\\xd0\\xb0\\xd1\\x80 18 15:38 Call.py\\n-rw-r--r-- 1 root root      465 \\xd0\\xbc\\xd0\\xb0\\xd1\\x80 18 15:38 Call.pyc\\n-rw-r--r-- 1 root root 51521830 \\xd0\\xbc\\xd0\\xb0\\xd1\\x80 13 18:51 full\\n-rw-r--r-- 1 root root     9174 \\xd0\\xbc\\xd0\\xb0\\xd1\\x80 19 12:18 parser.py\\ndrwxr-xr-x 2 root root     4096 \\xd0\\xbc\\xd0\\xb0\\xd1\\x80 18 17:46 __pycache__\\n-rw-r--r-- 1 root root     3634 \\xd0\\xbc\\xd0\\xb0\\xd1\\x80 19 12:11 Untitled.ipynb\\ndrwxr-xr-x 6 root root     4096 \\xd0\\xbc\\xd0\\xb0\\xd1\\x80 13 18:54 venv\\n'\n"
     ]
    }
   ],
   "source": [
    "print(s)"
   ]
  },
  {
   "cell_type": "code",
   "execution_count": null,
   "metadata": {},
   "outputs": [],
   "source": []
  }
 ],
 "metadata": {
  "kernelspec": {
   "display_name": "Python 3",
   "language": "python",
   "name": "python3"
  },
  "language_info": {
   "codemirror_mode": {
    "name": "ipython",
    "version": 3
   },
   "file_extension": ".py",
   "mimetype": "text/x-python",
   "name": "python",
   "nbconvert_exporter": "python",
   "pygments_lexer": "ipython3",
   "version": "3.7.3"
  }
 },
 "nbformat": 4,
 "nbformat_minor": 4
}
